{
 "cells": [
  {
   "cell_type": "markdown",
   "metadata": {},
   "source": [
    "# Building Algorithms for bond price movement"
   ]
  },
  {
   "cell_type": "code",
   "execution_count": 1,
   "metadata": {
    "collapsed": true
   },
   "outputs": [],
   "source": [
    "import io, os, sys, types\n",
    "import numpy as np\n",
    "import pandas as pd\n",
    "import sklearn as sk\n",
    "sys.path.append('../Python Scripts/APIs/')\n",
    "import api_algorithm as algo\n",
    "MP4 = True\n"
   ]
  },
  {
   "cell_type": "markdown",
   "metadata": {},
   "source": [
    "## Gathering and Organising Data"
   ]
  },
  {
   "cell_type": "code",
   "execution_count": 2,
   "metadata": {},
   "outputs": [
    {
     "name": "stdout",
     "output_type": "stream",
     "text": [
      "Testing Correlation between corresponding L and C AVG statistics for each underlying datatype\n",
      "               I2        I1       GM2       GM1       FF1       MP1       MP4  \\\n",
      "Pearson  0.455115  0.509620  0.462543  0.469224  0.404973  0.422853  0.420722   \n",
      "MIC      0.757963  0.344041  0.333861  0.605408  0.804772  0.815669  0.703927   \n",
      "\n",
      "              MP2  \n",
      "Pearson  0.390567  \n",
      "MIC      0.706715  \n",
      "\n",
      " MP4 kept for US analysis\n",
      "Testing Correlation between corresponding L and C AVG statistics for each underlying datatype\n",
      "               I2        I1       GM2       GM1       FF1       MP1       MP4  \\\n",
      "Pearson  0.266038  0.569166  0.598136  0.455878  0.254232  0.245972  0.217841   \n",
      "MIC      0.341591  0.584643  0.518848  0.380368  0.356305  0.287536  0.325596   \n",
      "\n",
      "              MP2  \n",
      "Pearson  0.307818  \n",
      "MIC      0.295008  \n",
      "\n",
      " MP4 kept for UK analysis\n",
      "Testing Correlation between corresponding L and C AVG statistics for each underlying datatype\n",
      "               I2        I1       GM2       GM1       FF1       MP1       MP4  \\\n",
      "Pearson  0.313291  0.415396  0.577811  0.396318  0.200806  0.322782  0.326722   \n",
      "MIC      0.400333  0.609330  0.596663  0.331379  0.373319  0.429473  0.304562   \n",
      "\n",
      "              MP2  \n",
      "Pearson  0.237766  \n",
      "MIC      0.438283  \n",
      "\n",
      " MP4 kept for JPN analysis\n",
      "Testing Correlation between corresponding L and C AVG statistics for each underlying datatype\n",
      "               I2        I1       GM2       GM1       FF1       MP1       MP4  \\\n",
      "Pearson  0.252537  0.488712  0.393322  0.576087  0.293166  0.392517  0.224670   \n",
      "MIC      0.306895  0.512785  0.491575  0.499256  0.318330  0.298365  0.347164   \n",
      "\n",
      "              MP2  \n",
      "Pearson  0.306523  \n",
      "MIC      0.294153  \n",
      "\n",
      " MP4 kept for AUS analysis\n",
      "Testing Correlation between corresponding L and C AVG statistics for each underlying datatype\n",
      "               I2        I1       GM2       GM1       FF1       MP1       MP4  \\\n",
      "Pearson  0.288384  0.432601  0.548369  0.046589  0.265846  0.382894  0.242492   \n",
      "MIC      0.327595  0.536321  0.563819  0.231208  0.322592  0.298214  0.307811   \n",
      "\n",
      "              MP2  \n",
      "Pearson  0.310726  \n",
      "MIC      0.324964  \n",
      "\n",
      " MP4 kept for CND analysis\n",
      "Testing Correlation between corresponding L and C AVG statistics for each underlying datatype\n",
      "               I2        I1       GM2       GM1       FF1       MP1       MP4  \\\n",
      "Pearson  0.153469  0.489287  0.523912  0.485062  0.194858  0.231497  0.189962   \n",
      "MIC      0.309543  0.529854  0.497984  0.367106  0.302725  0.302727  0.340082   \n",
      "\n",
      "              MP2  \n",
      "Pearson  0.320385  \n",
      "MIC      0.292366  \n",
      "\n",
      " MP4 kept for GRM analysis\n"
     ]
    }
   ],
   "source": [
    "data_us = algo.importData(\"US\",MP4,max_corr = 1,topvars=True)\n",
    "data_uk = algo.importData(\"UK\",MP4,max_corr = 1,topvars=True)\n",
    "data_jpn = algo.importData(\"JPN\",MP4,max_corr = 1,topvars=True)\n",
    "data_aus = algo.importData(\"AUS\",MP4,max_corr = 1,topvars=True)\n",
    "data_cnd = algo.importData(\"CND\",MP4,max_corr = 1,topvars=True)\n",
    "data_grm = algo.importData(\"GRM\",MP4,max_corr = 1,topvars=True)\n"
   ]
  },
  {
   "cell_type": "code",
   "execution_count": 3,
   "metadata": {
    "collapsed": true
   },
   "outputs": [],
   "source": [
    "##Enforcing neccesary lag on certain data points\n",
    "data_us = algo.featureLag(data_us)\n",
    "data_uk = algo.featureLag(data_uk)\n",
    "data_jpn = algo.featureLag(data_jpn)\n",
    "data_aus = algo.featureLag(data_aus)\n",
    "data_cnd = algo.featureLag(data_cnd)\n",
    "data_grm = algo.featureLag(data_grm)"
   ]
  },
  {
   "cell_type": "code",
   "execution_count": 4,
   "metadata": {},
   "outputs": [
    {
     "name": "stdout",
     "output_type": "stream",
     "text": [
      "\n",
      " Splitting Each countries data into 3 sets defined by Mentality Cycle\n",
      "US split completed\n",
      "\n",
      " Splitting Each countries data into 3 sets defined by Mentality Cycle\n",
      "UK split completed\n",
      "JPN split completed\n",
      "AUS split completed\n",
      "CND split completed\n",
      "GRM split completed\n"
     ]
    }
   ],
   "source": [
    "data_us = algo.businessCycleSplitter([(data_us,\"US\")])[0]\n",
    "list_all_country_data = algo.businessCycleSplitter([(data_uk,\"UK\"), (data_jpn,\"JPN\"), (data_aus,\"AUS\"), (data_cnd,\"CND\"), (data_grm,\"GRM\")])"
   ]
  },
  {
   "cell_type": "code",
   "execution_count": 5,
   "metadata": {},
   "outputs": [
    {
     "name": "stdout",
     "output_type": "stream",
     "text": [
      "\n",
      " Splitting Each countries data into feature and target variable\n",
      "US split completed\n",
      "\n",
      " Splitting Each countries data into feature and target variable\n",
      "UK split completed\n",
      "JPN split completed\n",
      "AUS split completed\n",
      "CND split completed\n",
      "GRM split completed\n"
     ]
    }
   ],
   "source": [
    "test_country_data = algo.classAndFeature([data_us])\n",
    "#all_country_data =  algo.classAndFeature([data_uk, data_jpn, data_aus, data_cnd, data_grm])\n",
    "all_country_data =  algo.classAndFeature(list_all_country_data)"
   ]
  },
  {
   "cell_type": "markdown",
   "metadata": {},
   "source": [
    "## Training Algos"
   ]
  },
  {
   "cell_type": "code",
   "execution_count": 6,
   "metadata": {
    "scrolled": false
   },
   "outputs": [
    {
     "name": "stdout",
     "output_type": "stream",
     "text": [
      "\n",
      " \n",
      " \n",
      " Testing various untrained classification algorithms on each country's seperate sub datasets \n",
      "[(69, 2)]\n",
      "[(68, 2)]\n",
      "[(119, 2)]\n",
      "[(118, 2)]\n",
      "[(34, 2)]\n",
      "[(34, 2)]\n",
      "        LDA     RC   LogR    KNN    SVM     RF    GBC     NN    PAC    SGD\n",
      "UK-1  0.569  0.613  0.562  0.591  0.555  0.847  0.898  0.562  0.563  0.643\n",
      "UK-2  0.586  0.599  0.591  0.654  0.599  0.802  0.878  0.536  0.552  0.586\n",
      "UK-3  0.515  0.588    0.5  0.632  0.529  0.824  0.868  0.588  0.515  0.412\n",
      "\n",
      "\n",
      "[(73, 2)]\n",
      "[(72, 2)]\n",
      "[(145, 2)]\n",
      "[(145, 2)]\n",
      "[(129, 2)]\n",
      "[(128, 2)]\n",
      "         LDA     RC   LogR    KNN    SVM     RF    GBC     NN    PAC    SGD\n",
      "JPN-1  0.642  0.642  0.635  0.648  0.641  0.655  0.751  0.572  0.538  0.558\n",
      "JPN-2  0.545   0.59  0.566  0.614  0.569  0.717  0.728  0.555  0.528  0.524\n",
      "JPN-3  0.634  0.662  0.603  0.716  0.603    0.7  0.778  0.611  0.568  0.557\n",
      "\n",
      "\n",
      "[(82, 2)]\n",
      "[(81, 2)]\n",
      "[(141, 2)]\n",
      "[(141, 2)]\n",
      "[(23, 2)]\n",
      "[(22, 2)]\n",
      "         LDA     RC   LogR    KNN    SVM     RF    GBC     NN    PAC    SGD\n",
      "AUS-1  0.546  0.632  0.571  0.614  0.571  0.816  0.877  0.546  0.583  0.552\n",
      "AUS-2   0.67  0.677  0.677   0.66  0.674  0.865  0.918  0.514   0.61  0.578\n",
      "AUS-3   0.51   0.51  0.555  0.577  0.555  0.622  0.732  0.642  0.554   0.51\n",
      "\n",
      "\n",
      "[(69, 2)]\n",
      "[(68, 2)]\n",
      "[(110, 2)]\n",
      "[(110, 2)]\n",
      "[(73, 2)]\n",
      "[(73, 2)]\n",
      "         LDA     RC   LogR    KNN    SVM     RF    GBC     NN    PAC    SGD\n",
      "GRM-1  0.562  0.621  0.562  0.613  0.555   0.81  0.861  0.621  0.569  0.511\n",
      "GRM-2  0.545  0.545  0.514    0.6  0.532  0.836  0.914  0.527  0.482  0.555\n",
      "GRM-3  0.699  0.692  0.692  0.699  0.692  0.897  0.911  0.582  0.603  0.589\n",
      "\n",
      "\n",
      "[(66, 2)]\n",
      "[(66, 2)]\n",
      "[(109, 2)]\n",
      "[(108, 2)]\n",
      "[(30, 2)]\n",
      "[(30, 2)]\n",
      "         LDA     RC   LogR    KNN    SVM     RF    GBC     NN    PAC    SGD\n",
      "CND-1  0.598   0.53  0.553  0.636  0.561  0.833  0.856  0.545  0.591   0.53\n",
      "CND-2  0.622  0.641  0.654  0.724  0.664  0.889  0.903  0.525  0.544  0.539\n",
      "CND-3    0.7  0.683  0.617  0.717    0.6  0.833  0.867  0.633  0.583  0.517\n",
      "\n",
      "\n"
     ]
    }
   ],
   "source": [
    "all_country_data_with_algos  = algo.testingAlgoTypes(all_country_data,verbose=1,MP4=MP4)"
   ]
  },
  {
   "cell_type": "code",
   "execution_count": 7,
   "metadata": {
    "scrolled": false
   },
   "outputs": [
    {
     "name": "stdout",
     "output_type": "stream",
     "text": [
      "\n",
      " \n",
      " Fine Tuning Parameters for the top 3 predictive algorithms for each country for each sub dataset split by Mentality/Business Cycle \n",
      "[(16, 2)]\n",
      "[(29, 2)]\n",
      "[(15, 2)]\n",
      "[(30, 2)]\n",
      "[(14, 2)]\n",
      "[(31, 2)]\n"
     ]
    }
   ],
   "source": [
    "all_country_data_with_trained_algos = algo.fineTuneModel(all_country_data_with_algos)"
   ]
  },
  {
   "cell_type": "markdown",
   "metadata": {},
   "source": [
    "Voting Classifier using aglortihms within each country within business cycle"
   ]
  },
  {
   "cell_type": "code",
   "execution_count": 8,
   "metadata": {},
   "outputs": [
    {
     "name": "stdout",
     "output_type": "stream",
     "text": [
      " \n",
      " For each training set country for each sub dataset (split by Mentality Cycle): the top n trained algorithms form a Voting Classifiers. This Voting Classifiers is then tested on its corresponding US sub data set. An aggregate scocre for each trainging set country is calculated through an Aggregation of its 3 Voting Classifiers' performances\n",
      "Voting Classifier trained on UK Mentality Cycle 1 has accuracy: 0.8304093567251462\n",
      "Voting Classifier trained on UK Mentality Cycle 2 has accuracy: 0.8982456140350877\n",
      "Voting Classifier trained on UK Mentality Cycle 3 has accuracy: 0.9217391304347826\n",
      "Aggregated Classifier trained on UK has accuracy: 0.882661996497373 \n",
      "\n",
      "Voting Classifier trained on JPN Mentality Cycle 1 has accuracy: 0.7076023391812866\n",
      "Voting Classifier trained on JPN Mentality Cycle 2 has accuracy: 0.6771929824561403\n",
      "Voting Classifier trained on JPN Mentality Cycle 3 has accuracy: 0.5043478260869565\n",
      "Aggregated Classifier trained on JPN has accuracy: 0.6514886164623468 \n",
      "\n",
      "Voting Classifier trained on AUS Mentality Cycle 1 has accuracy: 0.5964912280701754\n",
      "Voting Classifier trained on AUS Mentality Cycle 2 has accuracy: 0.6947368421052632\n",
      "[(115, 2)]\n",
      "Voting Classifier trained on AUS Mentality Cycle 3 has accuracy: 0.5217391304347826\n",
      "Aggregated Classifier trained on AUS has accuracy: 0.6304728546409807 \n",
      "\n",
      "Voting Classifier trained on GRM Mentality Cycle 1 has accuracy: 0.8771929824561403\n",
      "Voting Classifier trained on GRM Mentality Cycle 2 has accuracy: 0.9333333333333333\n",
      "Voting Classifier trained on GRM Mentality Cycle 3 has accuracy: 0.9391304347826087\n",
      "Aggregated Classifier trained on GRM has accuracy: 0.9176882661996497 \n",
      "\n",
      "Voting Classifier trained on CND Mentality Cycle 1 has accuracy: 0.8128654970760234\n",
      "Voting Classifier trained on CND Mentality Cycle 2 has accuracy: 0.8771929824561403\n",
      "Voting Classifier trained on CND Mentality Cycle 3 has accuracy: 0.8695652173913043\n",
      "Aggregated Classifier trained on CND has accuracy: 0.8563922942206655 \n",
      "\n"
     ]
    }
   ],
   "source": [
    "##forms a voting ensemble out of the top3 algorithms for each ensemble\n",
    "a_c_d_w_t_a_and_acc_scores = algo.votingEnsembleTest(all_country_data_with_trained_algos,test_country_data.get('US'))"
   ]
  },
  {
   "cell_type": "markdown",
   "metadata": {},
   "source": [
    "Voting classifiers using voting classifiers across countries for a given business business cycle"
   ]
  },
  {
   "cell_type": "code",
   "execution_count": 9,
   "metadata": {},
   "outputs": [
    {
     "name": "stdout",
     "output_type": "stream",
     "text": [
      "For each mentality cycle, the top 3 or 2 Voting Classifiers across countries are combined to form a 2nd Level Voting Classifier\n",
      "Mentality Cycle 1 2nd Layer Voting Classifier Ensemble has accuracy: 0.8888888888888888\n",
      "Mentality Cycle 2 2nd Layer Voting Classifier Ensemble has accuracy: 0.9368421052631579\n",
      "Mentality Cycle 3 2nd Layer Voting Classifier Ensemble has accuracy: 0.9043478260869565\n",
      "Aggregated accuracy of 2nd Layer Voting Classifiers is: 0.9159369527145359\n"
     ]
    }
   ],
   "source": [
    "algo.votingEnsembleTest2ndLayer(a_c_d_w_t_a_and_acc_scores,test_country_data.get('US'),2)"
   ]
  }
 ],
 "metadata": {
  "anaconda-cloud": {},
  "kernelspec": {
   "display_name": "Python [default]",
   "language": "python",
   "name": "python3"
  },
  "language_info": {
   "codemirror_mode": {
    "name": "ipython",
    "version": 3
   },
   "file_extension": ".py",
   "mimetype": "text/x-python",
   "name": "python",
   "nbconvert_exporter": "python",
   "pygments_lexer": "ipython3",
   "version": "3.5.2"
  }
 },
 "nbformat": 4,
 "nbformat_minor": 2
}
