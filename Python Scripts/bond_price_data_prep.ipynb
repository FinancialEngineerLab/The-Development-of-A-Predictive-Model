{
 "cells": [
  {
   "cell_type": "markdown",
   "metadata": {},
   "source": [
    "# Data Preparation"
   ]
  },
  {
   "cell_type": "code",
   "execution_count": 1,
   "metadata": {},
   "outputs": [
    {
     "data": {
      "text/html": [
       "<script>requirejs.config({paths: { 'plotly': ['https://cdn.plot.ly/plotly-latest.min']},});if(!window.Plotly) {{require(['plotly'],function(plotly) {window.Plotly=plotly;});}}</script>"
      ],
      "text/vnd.plotly.v1+html": [
       "<script>requirejs.config({paths: { 'plotly': ['https://cdn.plot.ly/plotly-latest.min']},});if(!window.Plotly) {{require(['plotly'],function(plotly) {window.Plotly=plotly;});}}</script>"
      ]
     },
     "metadata": {},
     "output_type": "display_data"
    }
   ],
   "source": [
    "import io, os, sys, types\n",
    "import numpy as np\n",
    "import pandas as pd\n",
    "sys.path.append('../Python Scripts/APIs/')\n",
    "import api_data_retrieval as api"
   ]
  },
  {
   "cell_type": "markdown",
   "metadata": {},
   "source": [
    "## Collecting Data and Creating AdeSavGol variables"
   ]
  },
  {
   "cell_type": "code",
   "execution_count": 2,
   "metadata": {},
   "outputs": [
    {
     "name": "stdout",
     "output_type": "stream",
     "text": [
      "UK - I2\n",
      "UK - I1\n",
      "UK - GM2\n",
      "UK - GM1\n",
      "UK - FF1\n",
      "UK - MP1\n",
      "UK - MP4\n",
      "UK - MP2\n",
      "UK - AA1\n",
      "US - I2\n",
      "US - I1\n",
      "US - GM2\n",
      "US - GM1\n",
      "US - FF1\n",
      "US - MP1\n",
      "US - MP4\n",
      "US - MP2\n",
      "US - AA1\n",
      "GRM - I2\n",
      "GRM - I1\n",
      "GRM - GM2\n",
      "GRM - GM1\n",
      "GRM - FF1\n",
      "GRM - MP1\n",
      "GRM - MP4\n",
      "GRM - MP2\n",
      "Some or all Data for GRMAA1 is saved Locally on laptop\n",
      "The original link is https://www.bundesbank.de/cae/servlet/StatisticDownload?tsId=BBK01.WZ3404&its_csvFormat=en&its_fileFormat=csv&mode=its\n",
      "GRM - AA1\n",
      "CND - I2\n",
      "CND - I1\n",
      "CND - GM2\n",
      "CND - GM1\n",
      "CND - FF1\n",
      "Some or all Data for CNDMP1 is saved Locally on laptop\n",
      "The original link is http://www5.statcan.gc.ca/access_acces/alternative_alternatif?l=eng&keng=7.059&kfra=7.059&teng=Download%20file%20from%20CANSIM&tfra=Fichier%20extrait%20de%20CANSIM&loc=http://www5.statcan.gc.ca/cansim/results/cansim6627822687716512013.csv\n",
      "CND - MP1\n",
      "Some or all Data for CNDMP4 is saved Locally on laptop\n",
      "The original link is http://www5.statcan.gc.ca/access_acces/alternative_alternatif?l=eng&keng=7.059&kfra=7.059&teng=Download%20file%20from%20CANSIM&tfra=Fichier%20extrait%20de%20CANSIM&loc=http://www5.statcan.gc.ca/cansim/results/cansim6627822687716512013.csv\n",
      "CND - MP4\n",
      "CND - MP2\n",
      "Some or all Data for CNDAA1 is saved Locally on laptop\n",
      "The original link is http://www5.statcan.gc.ca/access_acces/alternative_alternatif?l=eng&keng=7.059&kfra=7.059&teng=Download%20file%20from%20CANSIM&tfra=Fichier%20extrait%20de%20CANSIM&loc=http://www5.statcan.gc.ca/cansim/results/cansim6627822687716512013.csv\n",
      "CND - AA1\n",
      "AUS - I2\n",
      "AUS - I1\n",
      "AUS - GM2\n",
      "AUS - GM1\n",
      "AUS - FF1\n",
      "Some or all Data for AUSMP1 is saved Locally on laptop\n",
      "The original link is https://www.rba.gov.au/statistics/tables/xls/f02hist.xls?v=2017-11-20-14-18-03\n",
      "AUS - MP1\n",
      "Some or all Data for AUSMP4 is saved Locally on laptop\n",
      "The original link is http://www.rba.gov.au/statistics/tables/xls-hist/f02dhist.xls\n",
      "AUS - MP4\n",
      "AUS - MP2\n",
      "Some or all Data for AUSAA1 is saved Locally on laptop\n",
      "The original link is http://www.rba.gov.au/statistics/tables/xls-hist/f02dhist.xls\n",
      "AUS - AA1\n",
      "JPN - I2\n",
      "Some or all Data for JPNI1 is saved Locally on laptop\n",
      "The original link is http://www.esri.cao.go.jp/en/sna/data/sokuhou/files/2017/qe173/gdemenuea.html\n",
      "JPN - I1\n",
      "Some or all Data for JPNGM2 is saved Locally on laptop\n",
      "The original link is http://www.esri.cao.go.jp/en/sna/data/sokuhou/files/2017/qe173/gdemenuea.html\n",
      "JPN - GM2\n",
      "JPN - GM1\n",
      "JPN - FF1\n",
      "JPN - MP1\n",
      "JPN - MP4\n",
      "JPN - MP2\n",
      "Some or all Data for JPNAA1 is saved Locally on laptop\n",
      "The original link is ../Bond Price Predictive Model/JPN/\n",
      "JPN - AA1\n"
     ]
    }
   ],
   "source": [
    "for country in [\"UK\",\"US\",\"GRM\",\"CND\",\"AUS\",\"JPN\"]:\n",
    "    api.retreiveData(country,['I2','I1','GM2','GM1','FF1','MP1','MP4','MP2','AA1'])"
   ]
  },
  {
   "cell_type": "code",
   "execution_count": 3,
   "metadata": {
    "collapsed": true
   },
   "outputs": [],
   "source": [
    "windowlength, polyorder = 5, 4\n",
    "\n",
    "api.AdewoyinSavgolFilter(['I2','I1','GM2','GM1','FF1','MP1','MP4','MP2'],'dir_pred_US',save_xlsx=True,\n",
    "                         _auto_filter_date = True, windowlength = windowlength, polyorder = polyorder)\n",
    "api.AdewoyinSavgolFilter(['I2','I1','GM2','GM1','FF1','MP1','MP4','MP2'],'dir_pred_UK',save_xlsx=True,\n",
    "                         _auto_filter_date = True, windowlength = windowlength, polyorder = polyorder)\n",
    "api.AdewoyinSavgolFilter(['I2','I1','GM2','GM1','FF1','MP1','MP4','MP2'],'dir_pred_GRM',save_xlsx=True,\n",
    "                         _auto_filter_date = True, windowlength = windowlength, polyorder = polyorder)\n",
    "api.AdewoyinSavgolFilter(['I2','I1','GM2','GM1','FF1','MP1','MP4','MP2'],'dir_pred_JPN',save_xlsx=True,\n",
    "                         _auto_filter_date = True, windowlength = windowlength, polyorder = polyorder)\n",
    "api.AdewoyinSavgolFilter(['I2','I1','GM2','GM1','FF1','MP1','MP4','MP2'],'dir_pred_CND',save_xlsx=True,\n",
    "                         _auto_filter_date = True, windowlength = windowlength, polyorder = polyorder)\n",
    "api.AdewoyinSavgolFilter(['I2','I1','GM2','GM1','FF1','MP1','MP4','MP2'],'dir_pred_AUS',save_xlsx=True,\n",
    "                         _auto_filter_date = True, windowlength = windowlength, polyorder = polyorder)\n",
    "#Gather data into one \"COMBINED\" sheet\n",
    "\n",
    "api.createCombinedSheet('dir_pred_US',['I2','I1','GM2','GM1','FF1','MP1','MP4','MP2','BC3','AA1'],two_types=True)\n",
    "api.createCombinedSheet('dir_pred_UK',['I2','I1','GM2','GM1','FF1','MP1','MP4','MP2','BC3','AA1'],two_types=True)\n",
    "api.createCombinedSheet('dir_pred_GRM',['I2','I1','GM2','GM1','FF1','MP1','MP4','MP2','BC3','AA1'],two_types=True)\n",
    "api.createCombinedSheet('dir_pred_JPN',['I2','I1','GM2','GM1','FF1','MP1','MP4','MP2','BC3','AA1'],two_types=True)\n",
    "api.createCombinedSheet('dir_pred_CND',['I2','I1','GM2','GM1','FF1','MP1','MP4','MP2','BC3','AA1'],two_types=True)\n",
    "api.createCombinedSheet('dir_pred_AUS',['I2','I1','GM2','GM1','FF1','MP1','MP4','MP2','BC3','AA1'],two_types=True)"
   ]
  }
 ],
 "metadata": {
  "anaconda-cloud": {},
  "kernelspec": {
   "display_name": "Python [conda root]",
   "language": "python",
   "name": "conda-root-py"
  },
  "language_info": {
   "codemirror_mode": {
    "name": "ipython",
    "version": 3
   },
   "file_extension": ".py",
   "mimetype": "text/x-python",
   "name": "python",
   "nbconvert_exporter": "python",
   "pygments_lexer": "ipython3",
   "version": "3.5.2"
  }
 },
 "nbformat": 4,
 "nbformat_minor": 1
}
