{
 "cells": [
  {
   "cell_type": "markdown",
   "metadata": {},
   "source": [
    "# Building Algorithms for bond price movement"
   ]
  },
  {
   "cell_type": "code",
   "execution_count": 1,
   "metadata": {},
   "outputs": [
    {
     "ename": "ImportError",
     "evalue": "No module named 'api_algorithm'",
     "output_type": "error",
     "traceback": [
      "\u001b[1;31m---------------------------------------------------------------------------\u001b[0m",
      "\u001b[1;31mImportError\u001b[0m                               Traceback (most recent call last)",
      "\u001b[1;32m<ipython-input-1-d8ab5a5a815b>\u001b[0m in \u001b[0;36m<module>\u001b[1;34m()\u001b[0m\n\u001b[0;32m      5\u001b[0m \u001b[1;33m\u001b[0m\u001b[0m\n\u001b[0;32m      6\u001b[0m \u001b[0msys\u001b[0m\u001b[1;33m.\u001b[0m\u001b[0mpath\u001b[0m\u001b[1;33m.\u001b[0m\u001b[0mappend\u001b[0m\u001b[1;33m(\u001b[0m\u001b[1;34m'C:/Users/Rilwa/Desktop/Algorthmic Trading Platform/Python Scripts/APIs/'\u001b[0m\u001b[1;33m)\u001b[0m\u001b[1;33m\u001b[0m\u001b[0m\n\u001b[1;32m----> 7\u001b[1;33m \u001b[1;32mimport\u001b[0m \u001b[0mapi_algorithm\u001b[0m \u001b[1;32mas\u001b[0m \u001b[0malgo\u001b[0m\u001b[1;33m\u001b[0m\u001b[0m\n\u001b[0m\u001b[0;32m      8\u001b[0m \u001b[0mMP4\u001b[0m \u001b[1;33m=\u001b[0m \u001b[1;32mFalse\u001b[0m\u001b[1;33m\u001b[0m\u001b[0m\n",
      "\u001b[1;31mImportError\u001b[0m: No module named 'api_algorithm'"
     ]
    }
   ],
   "source": [
    "import io, os, sys, types\n",
    "import numpy as np\n",
    "import pandas as pd\n",
    "import sklearn as sk\n",
    "sys.path.append('../Python Scripts/APIs/')\n",
    "import api_algorithm as algo\n",
    "MP4 = False"
   ]
  },
  {
   "cell_type": "markdown",
   "metadata": {},
   "source": [
    "## Gathering and Organising Data"
   ]
  },
  {
   "cell_type": "code",
   "execution_count": null,
   "metadata": {},
   "outputs": [],
   "source": [
    "data_us = algo.importData(\"US\",MP4,max_corr = 1)\n",
    "data_uk = algo.importData(\"UK\",MP4,max_corr = 1)\n",
    "data_jpn = algo.importData(\"JPN\",MP4,max_corr = 1)\n",
    "data_aus = algo.importData(\"AUS\",MP4,max_corr = 1)\n",
    "data_cnd = algo.importData(\"CND\",MP4,max_corr = 1)\n",
    "data_grm = algo.importData(\"GRM\",MP4,max_corr = 1)"
   ]
  },
  {
   "cell_type": "code",
   "execution_count": null,
   "metadata": {
    "collapsed": true
   },
   "outputs": [],
   "source": [
    "##Enforcing neccesary lag on certain data points\n",
    "data_us = algo.featureLag(data_us)\n",
    "data_uk = algo.featureLag(data_uk)\n",
    "data_jpn = algo.featureLag(data_jpn)\n",
    "data_aus = algo.featureLag(data_aus)\n",
    "data_cnd = algo.featureLag(data_cnd)\n",
    "data_grm = algo.featureLag(data_grm)"
   ]
  },
  {
   "cell_type": "code",
   "execution_count": null,
   "metadata": {
    "collapsed": true
   },
   "outputs": [],
   "source": [
    "data_us = algo.businessCycleSplitter([(data_us,\"US\")])[0]\n",
    "list_all_country_data = algo.businessCycleSplitter([(data_uk,\"UK\"), (data_jpn,\"JPN\"), (data_aus,\"AUS\"), (data_cnd,\"CND\"), (data_grm,\"GRM\")])"
   ]
  },
  {
   "cell_type": "code",
   "execution_count": null,
   "metadata": {
    "collapsed": true
   },
   "outputs": [],
   "source": [
    "test_country_data = algo.classAndFeature([data_us])\n",
    "all_country_data =  algo.classAndFeature([data_uk, data_jpn, data_aus, data_cnd, data_grm])"
   ]
  },
  {
   "cell_type": "markdown",
   "metadata": {},
   "source": [
    "## Training Algos"
   ]
  },
  {
   "cell_type": "code",
   "execution_count": null,
   "metadata": {
    "scrolled": false
   },
   "outputs": [],
   "source": [
    "all_country_data_with_algos  = algo.testingAlgoTypes(all_country_data,verbose=1,MP4=MP4)"
   ]
  },
  {
   "cell_type": "code",
   "execution_count": null,
   "metadata": {
    "collapsed": true,
    "scrolled": false
   },
   "outputs": [],
   "source": [
    "all_country_data_with_trained_algos = algo.fineTuneModel(all_country_data_with_algos)"
   ]
  },
  {
   "cell_type": "markdown",
   "metadata": {},
   "source": [
    "Voting Classifier using aglortihms within each country within business cycle"
   ]
  },
  {
   "cell_type": "code",
   "execution_count": null,
   "metadata": {
    "collapsed": true
   },
   "outputs": [],
   "source": [
    "##forms a voting ensemble out of the top3 algorithms for each ensemble\n",
    "a_c_d_w_t_a_and_acc_scores = algo.votingEnsembleTest(all_country_data_with_trained_algos,test_country_data.get('US'))"
   ]
  },
  {
   "cell_type": "markdown",
   "metadata": {},
   "source": [
    "Voting classifiers using voting classifiers across countries for a given business business cycle"
   ]
  },
  {
   "cell_type": "code",
   "execution_count": null,
   "metadata": {
    "collapsed": true
   },
   "outputs": [],
   "source": [
    "algo.votingEnsembleTest2ndLayer(a_c_d_w_t_a_and_acc_scores,test_country_data.get('US'),2)"
   ]
  }
 ],
 "metadata": {
  "anaconda-cloud": {},
  "kernelspec": {
   "display_name": "Python [default]",
   "language": "python",
   "name": "python3"
  },
  "language_info": {
   "codemirror_mode": {
    "name": "ipython",
    "version": 3
   },
   "file_extension": ".py",
   "mimetype": "text/x-python",
   "name": "python",
   "nbconvert_exporter": "python",
   "pygments_lexer": "ipython3",
   "version": "3.5.2"
  }
 },
 "nbformat": 4,
 "nbformat_minor": 2
}
