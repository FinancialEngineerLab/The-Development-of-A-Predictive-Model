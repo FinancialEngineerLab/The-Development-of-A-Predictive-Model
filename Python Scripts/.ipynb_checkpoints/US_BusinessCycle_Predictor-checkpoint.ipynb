{
 "cells": [
  {
   "cell_type": "code",
   "execution_count": 9,
   "metadata": {
    "collapsed": true
   },
   "outputs": [],
   "source": [
    "import io, os, sys, types\n",
    "\n",
    "import numpy as np\n",
    "import pandas as pd\n",
    "import sklearn as sk\n",
    "import matplotlib\n",
    "import matplotlib.pyplot as plt\n",
    "\n",
    "sys.path.append('C:/Users/Rilwa/Desktop/Algorthmic Trading Platform/Python Scripts/APIs')\n",
    "import api as abc"
   ]
  },
  {
   "cell_type": "code",
   "execution_count": 4,
   "metadata": {
    "collapsed": true
   },
   "outputs": [],
   "source": [
    "##pulling datapoints in from seperate files to combined\n",
    "abc.innerjoin_date(dir_model_country='dir_bus_US',features=['GM2','I1','I2','LM1','MP2'],re_turn=False)\n",
    "abc.Interpolation_Levels(['GM2','I1'],'dir_bus_US', re_turn=False)\n",
    "df_USBC = pd.read_excel('C:/Users/Rilwa/Desktop/Algorthmic Trading Platform/Business Cycles/US/Data/Combined_hardcoded.xlsx',header=0)\n",
    "df_USBC = abc.date_filter(df_USBC,'1967-12-31','2017-01-31',replace=True)\n",
    "df_USBC= df_USBC.loc[:,['Date','BC3','GM2','I1','I2','LM1','MP2']]\n",
    "#df_USBC = abc.lags(df_USBC,[x for x in df_USBC.columns.values if x not in ['Date','BC_3']],shifts=1)\n",
    "df_USBC = abc.lags(df_USBC,['BC_3'],shifts=1)\n",
    "#Features and Classes\n",
    "Y=df_USBC.loc[:,['BC3']]\n",
    "X=df_USBC.loc[:,[x for x in df_USBC.columns.values if x not in ['BC3','Date']]]\n"
   ]
  },
  {
   "cell_type": "heading",
   "level": 3,
   "metadata": {},
   "source": [
    "# #CV"
   ]
  },
  {
   "cell_type": "code",
   "execution_count": 5,
   "metadata": {},
   "outputs": [
    {
     "name": "stdout",
     "output_type": "stream",
     "text": [
      "Accuracy\n",
      "        LDA  Linear_Ridge   Log_Reg       KNN       SVM        RF       GBC  \\\n",
      "0  0.928675      0.806479  0.886250  0.930399  0.901533  0.925285  0.928675   \n",
      "1  0.000245      0.000671  0.000702  0.000100  0.000149  0.000071  0.000476   \n",
      "\n",
      "         NN  \n",
      "0  0.927020  \n",
      "1  0.000166  \n"
     ]
    }
   ],
   "source": [
    "from sklearn.discriminant_analysis import LinearDiscriminantAnalysis\n",
    "from sklearn import linear_model\n",
    "from sklearn import neighbors\n",
    "from sklearn import svm\n",
    "from sklearn import ensemble\n",
    "from sklearn import neural_network\n",
    "\n",
    "from sklearn import preprocessing\n",
    "from sklearn import model_selection\n",
    "from sklearn import pipeline\n",
    "\n",
    "classifiers = [LinearDiscriminantAnalysis(), linear_model.RidgeClassifier(), linear_model.LogisticRegression(),\n",
    "    neighbors.KNeighborsClassifier(), svm.LinearSVC(), ensemble.RandomForestClassifier(), ensemble.GradientBoostingClassifier(),neural_network.MLPClassifier()]\n",
    "\n",
    "headers = ['LDA','Linear_Ridge','Log_Reg','KNN','SVM','RF','GBC', 'NN']\n",
    "avg=[]\n",
    "var=[]\n",
    "##Creating Pipelines\n",
    "for x in classifiers:\n",
    "    steps=[]\n",
    "    standardizer = ('standardize',preprocessing.StandardScaler())\n",
    "    steps.append(standardizer)\n",
    "    algo = ('clf',x)    \n",
    "    steps.append(algo)\n",
    "    pipeline_clf = pipeline.Pipeline(steps)\n",
    "    ##Evaluate Pipeline\n",
    "    seed = np.random.randint(50)\n",
    "    kfold = model_selection.KFold(n_splits = 4, random_state=seed,shuffle=True)\n",
    "    result = model_selection.cross_val_score(pipeline_clf, X, Y.values.ravel(), cv=kfold, n_jobs=-1)\n",
    "    avg.append(result.mean())\n",
    "    var.append(result.var())\n",
    "\n",
    "\n",
    "results = np.append([avg],[var], axis=0)\n",
    "df_cv_results = pd.DataFrame(columns = headers,data=results)\n",
    "print(\"Accuracy\")\n",
    "print(df_cv_results)"
   ]
  },
  {
   "cell_type": "heading",
   "level": 1,
   "metadata": {},
   "source": [
    "#Models to be used in Stacking {KNN,LDA,RF, NN}\n",
    "#Using Grid Search and CV to find optimum parameters"
   ]
  },
  {
   "cell_type": "code",
   "execution_count": 21,
   "metadata": {
    "collapsed": true
   },
   "outputs": [],
   "source": [
    "import matplotlib.gridspec as gridspec\n",
    "from sklearn.model_selection import GridSearchCV\n",
    "\n",
    "n_jobs = -1\n",
    "cv_folds = 5\n",
    "\n",
    "#Parameters\n",
    "knn_neighbours = np.arange(3,20,1)\n",
    "knn_weights= ['uniform','distance']\n",
    "knn_leaf_size = np.arange(15,35,2)\n",
    "lda_n_components = np.arange(4,9,1)\n",
    "lda_solver = ['svd', 'lsqr', 'eigen']\n",
    "rf_max_depth = np.arange(3,8,1)\n",
    "nn_solver = ['lbfgs'] #lbfgs performs better than adams on small datasets apparently\n",
    "nn_hiden_layer_sizes = [(3,)] #hidden layer size should be average of input layer and output layer\n",
    "\n",
    "\n",
    "knn_parameters = {'n_neighbors': knn_neighbours, 'weights': knn_weights, 'leaf_size': knn_leaf_size}\n",
    "lda_parameters = {'n_components':lda_n_components, 'solver':lda_solver}\n",
    "rf_parameters = {'max_depth':rf_max_depth}\n",
    "nn_parameters = {'hidden_layer_sizes':nn_hiden_layer_sizes,'solver':nn_solver}\n",
    "\n",
    "knn_grid = GridSearchCV(neighbors.KNeighborsClassifier(),param_grid=knn_parameters, cv=4)\n",
    "lda_grid = GridSearchCV(LinearDiscriminantAnalysis(),param_grid=lda_parameters,cv=3)\n",
    "rf_grid = GridSearchCV(ensemble.RandomForestClassifier(), param_grid=rf_parameters,cv=3)\n",
    "nn_grid = GridSearchCV(neural_network.MLPClassifier(), param_grid=nn_parameters, cv=43)\n",
    "\n",
    "##remove the standardization in fit method\n",
    "knn_grid.fit(X,Y.as_matrix().flatten())\n",
    "lda_grid.fit(X,Y.as_matrix().flatten())\n",
    "rf_grid.fit(X,Y.as_matrix().flatten())\n",
    "nn_grid.fit(X,Y.as_matrix().flatten())\n",
    "clfs = {'knn':knn_grid, 'lda':lda_grid,'rf':rf_grid, 'nn':nn_grid}\n",
    "\n",
    "VotingCf = ensemble.VotingClassifier(estimators=clfs,voting='soft',n_jobs=-1)\n"
   ]
  },
  {
   "cell_type": "code",
   "execution_count": 3,
   "metadata": {
    "collapsed": true
   },
   "outputs": [
    {
     "name": "stdout",
     "output_type": "stream",
     "text": [
      "Best Parameters\n",
      "KNN\n"
     ]
    },
    {
     "ename": "NameError",
     "evalue": "name 'knn_grid' is not defined",
     "output_type": "error",
     "traceback": [
      "\u001b[1;31m---------------------------------------------------------------------------\u001b[0m",
      "\u001b[1;31mNameError\u001b[0m                                 Traceback (most recent call last)",
      "\u001b[1;32m<ipython-input-3-8d96fa5d551a>\u001b[0m in \u001b[0;36m<module>\u001b[1;34m()\u001b[0m\n\u001b[0;32m      2\u001b[0m \u001b[0mprint\u001b[0m\u001b[1;33m(\u001b[0m\u001b[1;34m'Best Parameters'\u001b[0m\u001b[1;33m)\u001b[0m\u001b[1;33m\u001b[0m\u001b[0m\n\u001b[0;32m      3\u001b[0m \u001b[0mprint\u001b[0m\u001b[1;33m(\u001b[0m\u001b[1;34m'KNN'\u001b[0m\u001b[1;33m)\u001b[0m\u001b[1;33m\u001b[0m\u001b[0m\n\u001b[1;32m----> 4\u001b[1;33m \u001b[0mprint\u001b[0m\u001b[1;33m(\u001b[0m\u001b[1;34m'neighbours:  {} '\u001b[0m\u001b[1;33m.\u001b[0m\u001b[0mformat\u001b[0m\u001b[1;33m(\u001b[0m\u001b[0mknn_grid\u001b[0m\u001b[1;33m.\u001b[0m\u001b[0mbest_params_\u001b[0m\u001b[1;33m[\u001b[0m\u001b[1;34m'n_neighbors'\u001b[0m\u001b[1;33m]\u001b[0m\u001b[1;33m)\u001b[0m\u001b[1;33m)\u001b[0m\u001b[1;33m\u001b[0m\u001b[0m\n\u001b[0m\u001b[0;32m      5\u001b[0m \u001b[0mprint\u001b[0m\u001b[1;33m(\u001b[0m\u001b[1;34m'weights: {} \\n '\u001b[0m\u001b[1;33m.\u001b[0m\u001b[0mformat\u001b[0m\u001b[1;33m(\u001b[0m\u001b[0mknn_grid\u001b[0m\u001b[1;33m.\u001b[0m\u001b[0mbest_params_\u001b[0m\u001b[1;33m[\u001b[0m\u001b[1;34m'weights'\u001b[0m\u001b[1;33m]\u001b[0m\u001b[1;33m)\u001b[0m\u001b[1;33m)\u001b[0m\u001b[1;33m\u001b[0m\u001b[0m\n\u001b[0;32m      6\u001b[0m \u001b[1;33m\u001b[0m\u001b[0m\n",
      "\u001b[1;31mNameError\u001b[0m: name 'knn_grid' is not defined"
     ]
    }
   ],
   "source": [
    "##Listing parameters chosen\n",
    "print('Best Parameters')\n",
    "print('KNN')\n",
    "print('neighbours:  {} '.format(knn_grid.best_params_['n_neighbors']))\n",
    "print('weights: {} \\n '.format(knn_grid.best_params_['weights']))\n",
    "\n",
    "print('LDA')\n",
    "print('n_components: {} '.format(lda_grid.best_params_['n_components']))\n",
    "print('solver:  {}  \\n'.format(lda_grid.best_params_['solver']))\n",
    "\n",
    "print('RF')\n",
    "print('max_depth: {} \\n'.format(rf_grid.best_params_['max_depth']))\n",
    "\n",
    "print('NN')\n",
    "print('hidden_layer_sizes: {}'.format(nn_grid.best_params_[\"hidden_layer_sizes\"]))\n",
    "print('solver: {} \\n '.format(nn_grid.best_params_['solver']))"
   ]
  },
  {
   "cell_type": "code",
   "execution_count": 7,
   "metadata": {},
   "outputs": [
    {
     "name": "stderr",
     "output_type": "stream",
     "text": [
      "C:\\Users\\Rilwa\\Anaconda3\\lib\\site-packages\\numpy\\lib\\polynomial.py:595: RankWarning:\n",
      "\n",
      "Polyfit may be poorly conditioned\n",
      "\n"
     ]
    }
   ],
   "source": []
  }
 ],
 "metadata": {
  "anaconda-cloud": {},
  "kernelspec": {
   "display_name": "Python [default]",
   "language": "python",
   "name": "python3"
  },
  "language_info": {
   "codemirror_mode": {
    "name": "ipython",
    "version": 3
   },
   "file_extension": ".py",
   "mimetype": "text/x-python",
   "name": "python",
   "nbconvert_exporter": "python",
   "pygments_lexer": "ipython3",
   "version": "3.5.2"
  }
 },
 "nbformat": 4,
 "nbformat_minor": 2
}
