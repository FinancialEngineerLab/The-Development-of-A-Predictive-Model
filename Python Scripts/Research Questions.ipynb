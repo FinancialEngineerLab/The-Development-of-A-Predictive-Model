{
 "cells": [
  {
   "cell_type": "code",
   "execution_count": 4,
   "metadata": {},
   "outputs": [
    {
     "name": "stderr",
     "output_type": "stream",
     "text": [
      "[NbConvertApp] Converting notebook bond_price_data_prep.ipynb to script\n",
      "C:\\Users\\Rilwa\\Anaconda3\\lib\\site-packages\\sphinx\\util\\compat.py:40: RemovedInSphinx17Warning: sphinx.util.compat.Directive is deprecated and will be removed in Sphinx 1.7, please use docutils' instead.\n",
      "  RemovedInSphinx17Warning)\n",
      "[NbConvertApp] Writing 2407 bytes to bond_price_data_prep.py\n",
      "[NbConvertApp] Converting notebook bond_price_pred.ipynb to script\n",
      "[NbConvertApp] Writing 2089 bytes to bond_price_pred.py\n",
      "[NbConvertApp] Converting notebook bond_price_pred_excl_MP4.ipynb to script\n",
      "[NbConvertApp] Writing 1947 bytes to bond_price_pred_excl_MP4.py\n",
      "[NbConvertApp] Converting notebook bond_price_pred_only_MP4.ipynb to script\n",
      "[NbConvertApp] Writing 1999 bytes to bond_price_pred_only_MP4.py\n",
      "[NbConvertApp] Converting notebook Research Questions.ipynb to script\n",
      "[NbConvertApp] Writing 625 bytes to Research Questions.txt\n"
     ]
    }
   ],
   "source": [
    "!jupyter nbconvert --to script *.ipynb\n",
    "import io, os, sys, types\n",
    "import numpy as np\n",
    "try:\n",
    "    del research\n",
    "except NameError:\n",
    "    print(\"instance of research api does not exist yet\")\n",
    "sys.path.append('../Python Scripts/APIs/')\n",
    "import api_research as research"
   ]
  },
  {
   "cell_type": "markdown",
   "metadata": {},
   "source": [
    "# Reseach Questions"
   ]
  },
  {
   "cell_type": "markdown",
   "metadata": {},
   "source": [
    "## 1) Can I build a good trading model"
   ]
  },
  {
   "cell_type": "code",
   "execution_count": null,
   "metadata": {},
   "outputs": [],
   "source": [
    "#MP4 = True performs the analysis with the MP4L and MP4C features included. MP4=False does the opposite. MP4=\"Only\" includes only MP4L and MP4C as features\n",
    "research.finalModelScore(True)"
   ]
  },
  {
   "cell_type": "markdown",
   "metadata": {},
   "source": [
    "## 2)To what extent do my statistics contribute to the 5-Year MoM Bond"
   ]
  },
  {
   "cell_type": "code",
   "execution_count": null,
   "metadata": {
    "collapsed": true
   },
   "outputs": [],
   "source": [
    "research.featureImportance(MP4=True) "
   ]
  },
  {
   "cell_type": "markdown",
   "metadata": {},
   "source": [
    "I will compare the importance of different features within each country-business cycle.\n",
    "I will evaluate feature importance using the scores from Gradient Boosted Classifiers."
   ]
  },
  {
   "cell_type": "markdown",
   "metadata": {},
   "source": [
    "## 3) Evaluating my assumption that behaviour differs by business cycle"
   ]
  },
  {
   "cell_type": "code",
   "execution_count": null,
   "metadata": {
    "collapsed": true
   },
   "outputs": [],
   "source": [
    "##uses MP4 = True\n",
    "research.crossBusinessCycleTest()"
   ]
  },
  {
   "cell_type": "markdown",
   "metadata": {},
   "source": [
    "## 4) Which country shows the most similarities to the USA and why analysis on sub business cycle accuracy as well"
   ]
  },
  {
   "cell_type": "code",
   "execution_count": null,
   "metadata": {
    "collapsed": true
   },
   "outputs": [],
   "source": [
    "##uses MP4 =True\n",
    "research.countryPredComparison()"
   ]
  },
  {
   "cell_type": "markdown",
   "metadata": {},
   "source": [
    "### Correlation between C and L variables for a given country"
   ]
  },
  {
   "cell_type": "code",
   "execution_count": null,
   "metadata": {
    "collapsed": true
   },
   "outputs": [],
   "source": [
    "research.adeSavGolcorrelation(\"UK\")"
   ]
  }
 ],
 "metadata": {
  "anaconda-cloud": {},
  "kernelspec": {
   "display_name": "Python [default]",
   "language": "python",
   "name": "python3"
  }
 },
 "nbformat": 4,
 "nbformat_minor": 2
}
